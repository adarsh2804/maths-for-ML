{
 "cells": [
  {
   "cell_type": "markdown",
   "metadata": {},
   "source": [
    "# 1. Vectors"
   ]
  },
  {
   "cell_type": "code",
   "execution_count": 76,
   "metadata": {},
   "outputs": [],
   "source": [
    "# Importing important modules which will be used further\n",
    "\n",
    "import numpy as np\n",
    "from sympy import *"
   ]
  },
  {
   "cell_type": "markdown",
   "metadata": {},
   "source": [
    "### 1.1 Creating a Vector"
   ]
  },
  {
   "cell_type": "code",
   "execution_count": 144,
   "metadata": {},
   "outputs": [
    {
     "data": {
      "text/plain": [
       "array([1, 2, 3, 4, 5, 6])"
      ]
     },
     "execution_count": 144,
     "metadata": {},
     "output_type": "execute_result"
    }
   ],
   "source": [
    "# Creating a vector\n",
    "\n",
    "vector = np.array([1, 2, 3, 4, 5, 6])\n",
    "vector"
   ]
  },
  {
   "cell_type": "markdown",
   "metadata": {},
   "source": [
    "### 1.2 Magnitude of a Vector"
   ]
  },
  {
   "cell_type": "code",
   "execution_count": 196,
   "metadata": {},
   "outputs": [
    {
     "name": "stdout",
     "output_type": "stream",
     "text": [
      "Magnitude of vector = 11.224972160321824\n"
     ]
    }
   ],
   "source": [
    "# Magnitude of vector\n",
    "\n",
    "v = np.array([7, 3, 8, 2])\n",
    "magnitude_v = np.linalg.norm(v)               # square root of squared sum of each element\n",
    "\n",
    "print(\"Magnitude of vector =\", magnitude_v)"
   ]
  },
  {
   "cell_type": "markdown",
   "metadata": {},
   "source": [
    "### 1.3 Unit Vector"
   ]
  },
  {
   "cell_type": "code",
   "execution_count": 197,
   "metadata": {},
   "outputs": [
    {
     "name": "stdout",
     "output_type": "stream",
     "text": [
      "Unit vector = [0.6 0.8]\n"
     ]
    }
   ],
   "source": [
    "# Finding unit vector\n",
    "\n",
    "v = np.array([3, 4])\n",
    "unit_vector = v / (v**2).sum()**0.5           # unit vector = vector / magnitude of vector\n",
    "print(\"Unit vector =\", unit_vector)"
   ]
  },
  {
   "cell_type": "code",
   "execution_count": 198,
   "metadata": {},
   "outputs": [
    {
     "name": "stdout",
     "output_type": "stream",
     "text": [
      "Unit vector = [0.42426407 0.56568542 0.70710678]\n"
     ]
    }
   ],
   "source": [
    "# Finding unit vector\n",
    "\n",
    "v = np.array([6, 8, 10])\n",
    "unit_vector = v / np.linalg.norm(v)\n",
    "print(\"Unit vector =\", unit_vector)"
   ]
  },
  {
   "cell_type": "markdown",
   "metadata": {},
   "source": [
    "### 1.4 Addition of Two Vectors "
   ]
  },
  {
   "cell_type": "code",
   "execution_count": 199,
   "metadata": {},
   "outputs": [
    {
     "name": "stdout",
     "output_type": "stream",
     "text": [
      "Addition of vectors = [ 65  60 159  58  22  58]\n"
     ]
    }
   ],
   "source": [
    "# Addition of two vectors\n",
    "\n",
    "x = np.array([34,54,76,5,7,48])\n",
    "y = np.array([31,6,83,53,15,10])\n",
    "\n",
    "print(\"Addition of vectors =\", x + y)"
   ]
  },
  {
   "cell_type": "markdown",
   "metadata": {},
   "source": [
    "### 1.5 Subtraction of Two Vectors"
   ]
  },
  {
   "cell_type": "code",
   "execution_count": 200,
   "metadata": {},
   "outputs": [
    {
     "name": "stdout",
     "output_type": "stream",
     "text": [
      "Difference of vectors = [  3  48  -7 -48  -8  38]\n"
     ]
    }
   ],
   "source": [
    "# Subtraction of two vectors\n",
    "\n",
    "x = np.array([34,54,76,5,7,48])\n",
    "y = np.array([31,6,83,53,15,10])\n",
    "\n",
    "print(\"Difference of vectors =\", x - y)"
   ]
  },
  {
   "cell_type": "markdown",
   "metadata": {},
   "source": [
    "### 1.6 Product of Scalar to a Vector"
   ]
  },
  {
   "cell_type": "code",
   "execution_count": 201,
   "metadata": {},
   "outputs": [
    {
     "name": "stdout",
     "output_type": "stream",
     "text": [
      "Product = [170 270 380  25  35 240]\n"
     ]
    }
   ],
   "source": [
    "# Product of scalar quantity to vector\n",
    "\n",
    "x = np.array([34,54,76,5,7,48])\n",
    "print(\"Product =\", 5 * x)"
   ]
  },
  {
   "cell_type": "markdown",
   "metadata": {},
   "source": [
    "### 1.7 Dot Product of Two Vectors"
   ]
  },
  {
   "cell_type": "code",
   "execution_count": 202,
   "metadata": {},
   "outputs": [
    {
     "name": "stdout",
     "output_type": "stream",
     "text": [
      "Dot product = 124\n"
     ]
    }
   ],
   "source": [
    "# Dot product of two vectors\n",
    "\n",
    "x = np.array([2,5,7,8])\n",
    "y = np.array([6,5,1,10])\n",
    "\n",
    "print(\"Dot product =\", np.dot(x, y))           # Dot product is scalar"
   ]
  },
  {
   "cell_type": "markdown",
   "metadata": {},
   "source": [
    "### 1.8 Cross Product of Two Vectors"
   ]
  },
  {
   "cell_type": "code",
   "execution_count": 203,
   "metadata": {},
   "outputs": [
    {
     "name": "stdout",
     "output_type": "stream",
     "text": [
      "Cross product = [-3  6 -3]\n"
     ]
    }
   ],
   "source": [
    "# Cross product of two vectors\n",
    "\n",
    "a = np.array([1, 2, 3])\n",
    "b = np.array([4, 5, 6])\n",
    "\n",
    "print(\"Cross product =\", np.cross(a, b))"
   ]
  },
  {
   "cell_type": "markdown",
   "metadata": {},
   "source": [
    "### 1.9 Projection of One Vector on Other"
   ]
  },
  {
   "cell_type": "code",
   "execution_count": 109,
   "metadata": {},
   "outputs": [
    {
     "name": "stdout",
     "output_type": "stream",
     "text": [
      "Projection of vector a on b = [1.66233766 2.07792208 2.49350649]\n"
     ]
    }
   ],
   "source": [
    "# Projection of one vector on another\n",
    "\n",
    "a = np.array([1, 2, 3])\n",
    "b = np.array([4, 5, 6])\n",
    "\n",
    "a_dot_b = np.dot(a, b)\n",
    "magnitude_b = np.linalg.norm(b)\n",
    "unit_b = b / np.linalg.norm(b)\n",
    "\n",
    "a_projection_b = (a_dot_b / magnitude_b) * unit_b\n",
    "\n",
    "print(\"Projection of vector a on b =\", a_projection_b)"
   ]
  },
  {
   "cell_type": "code",
   "execution_count": 236,
   "metadata": {},
   "outputs": [
    {
     "name": "stdout",
     "output_type": "stream",
     "text": [
      "Projection of vector a on b = [0. 0.]\n"
     ]
    }
   ],
   "source": [
    "# Projection of one vector on another\n",
    "\n",
    "a = np.array([0, 2])\n",
    "b = np.array([4, 0])\n",
    "\n",
    "a_dot_b = np.dot(a, b)\n",
    "magnitude_b = np.linalg.norm(b)\n",
    "unit_b = b / np.linalg.norm(b)\n",
    "\n",
    "a_projection_b = (a_dot_b / magnitude_b) * unit_b\n",
    "\n",
    "print(\"Projection of vector a on b =\", a_projection_b)"
   ]
  },
  {
   "cell_type": "markdown",
   "metadata": {},
   "source": [
    "### 1.10 Change of Basis in Vector Space"
   ]
  },
  {
   "cell_type": "code",
   "execution_count": 204,
   "metadata": {},
   "outputs": [
    {
     "name": "stdout",
     "output_type": "stream",
     "text": [
      "Vector in new basis = [16. 12.]\n"
     ]
    }
   ],
   "source": [
    "# Change of basis\n",
    "\n",
    "old_vector = [8, 6]\n",
    "old_basis = np.array([[4, 0],\n",
    "                      [0, 4]])\n",
    "new_basis = np.array([[2, 0],\n",
    "                      [0, 2]])\n",
    "\n",
    "new_vector = np.linalg.inv(new_basis).dot(old_basis).dot(old_vector)    # new_vector = inv(new_basis).old_basis.old_vector\n",
    "\n",
    "print(\"Vector in new basis =\", new_vector)"
   ]
  },
  {
   "cell_type": "code",
   "execution_count": 205,
   "metadata": {},
   "outputs": [
    {
     "name": "stdout",
     "output_type": "stream",
     "text": [
      "Vector in new basis = [ 0.41666667 -1.58333333 -1.83333333]\n"
     ]
    }
   ],
   "source": [
    "# Change of basis\n",
    "\n",
    "old_vector = [8, 6, 3]\n",
    "old_basis = np.array([[1, 0, 0],\n",
    "                      [0, 1, 0],\n",
    "                      [0, 0, 1]])\n",
    "new_basis = np.array([[2, -8, 3],\n",
    "                      [0, 2, -5],\n",
    "                      [1, 3, -4]])\n",
    "\n",
    "new_vector = np.linalg.inv(new_basis).dot(old_basis).dot(old_vector)    # new_vector = inv(new_basis).old_basis.old_vector\n",
    "\n",
    "print(\"Vector in new basis =\", new_vector)"
   ]
  },
  {
   "cell_type": "markdown",
   "metadata": {},
   "source": [
    "### 1.11 Span of Vector Space"
   ]
  },
  {
   "cell_type": "code",
   "execution_count": null,
   "metadata": {},
   "outputs": [],
   "source": [
    "# Span of Vector Space\n",
    "\n",
    "A = Matrix([1, -2, 0])\n",
    "B = Matrix([-4, 5, 3])\n",
    "\n",
    "print(A.rref())\n",
    "print(B.rref())\n",
    "\n",
    "if A.rref() == B.rref():                                    # For vectors to be in span, RREF should be equal\n",
    "    print(\"Both vectors are in span of vector space\")\n",
    "else:\n",
    "    print(\"Not in span of vector space\")"
   ]
  },
  {
   "cell_type": "markdown",
   "metadata": {},
   "source": [
    "# 2. Matrix"
   ]
  },
  {
   "cell_type": "markdown",
   "metadata": {},
   "source": [
    "### 2.1 Creating a Matrix"
   ]
  },
  {
   "cell_type": "code",
   "execution_count": 206,
   "metadata": {},
   "outputs": [
    {
     "name": "stdout",
     "output_type": "stream",
     "text": [
      "Matrix = [[1, 2, 3], [4, 5, 6], [7, 8, 9]]\n"
     ]
    }
   ],
   "source": [
    "# Creating a matrix of order 3 x 3 using list\n",
    "\n",
    "matrix = [[1, 2, 3],\n",
    "          [4, 5, 6],\n",
    "          [7, 8, 9]]\n",
    "\n",
    "print(\"Matrix =\", matrix)"
   ]
  },
  {
   "cell_type": "code",
   "execution_count": 233,
   "metadata": {},
   "outputs": [
    {
     "name": "stdout",
     "output_type": "stream",
     "text": [
      "Matrix =\n"
     ]
    },
    {
     "data": {
      "text/latex": [
       "$\\displaystyle \\left[\\begin{matrix}1 & 2 & 3\\\\4 & 5 & 6\\\\7 & 8 & 9\\end{matrix}\\right]$"
      ],
      "text/plain": [
       "Matrix([\n",
       "[1, 2, 3],\n",
       "[4, 5, 6],\n",
       "[7, 8, 9]])"
      ]
     },
     "execution_count": 233,
     "metadata": {},
     "output_type": "execute_result"
    }
   ],
   "source": [
    "from sympy import *\n",
    "\n",
    "A = Matrix([[1, 2, 3], [4, 5, 6], [7, 8, 9]])\n",
    "print(\"Matrix =\")\n",
    "A"
   ]
  },
  {
   "cell_type": "markdown",
   "metadata": {},
   "source": [
    "### 2.2 Accessing Elements of Matrix"
   ]
  },
  {
   "cell_type": "code",
   "execution_count": 85,
   "metadata": {},
   "outputs": [
    {
     "name": "stdout",
     "output_type": "stream",
     "text": [
      "[4, 5, 6]\n",
      "6\n",
      "3\n"
     ]
    }
   ],
   "source": [
    "# Accessing elements of matrix\n",
    "\n",
    "matrix = [[1, 2, 3],\n",
    "          [4, 5, 6],\n",
    "          [7, 8, 9]]\n",
    "\n",
    "print(matrix[1])                   # it will print second row\n",
    "print(matrix[1][2])                # it will print element of second row and third column\n",
    "print(matrix[0][-1])               # it will print last element of first row"
   ]
  },
  {
   "cell_type": "markdown",
   "metadata": {},
   "source": [
    "### 2.3 Addition of Matrices"
   ]
  },
  {
   "cell_type": "code",
   "execution_count": 210,
   "metadata": {},
   "outputs": [
    {
     "name": "stdout",
     "output_type": "stream",
     "text": [
      "Addition =\n",
      "[4, 7, 11]\n",
      "[9, 11, 8]\n",
      "[16, 12, 10]\n"
     ]
    }
   ],
   "source": [
    "# Addition of matrices (Dimensions of the matrices should be same)\n",
    "\n",
    "a = [[1, 2, 3],\n",
    "     [4, 5, 6],\n",
    "     [7, 8, 9]]\n",
    "\n",
    "b = [[3, 5, 8],\n",
    "     [5, 6, 2],\n",
    "     [9, 4, 1]]\n",
    "\n",
    "result = [[0,0,0],\n",
    "         [0,0,0],\n",
    "         [0,0,0]]\n",
    "\n",
    "for i in range(len(a)):\n",
    "    for j in range(len(b)):\n",
    "        result[i][j] = a[i][j] + b[i][j]                 # elementwise addition\n",
    "\n",
    "print(\"Addition =\")\n",
    "\n",
    "for r in result:\n",
    "    print(r)"
   ]
  },
  {
   "cell_type": "code",
   "execution_count": 211,
   "metadata": {},
   "outputs": [
    {
     "name": "stdout",
     "output_type": "stream",
     "text": [
      "Addition =\n",
      "[[ 5 11]\n",
      " [13 10]]\n"
     ]
    }
   ],
   "source": [
    "# Addition of matrices (Dimensions of the matrices should be same)\n",
    "\n",
    "A = np.array(([3,1],[6,4]))\n",
    "B = np.array(([1,8],[4,2]))\n",
    "C = np.array(([1,2],[3,4]))\n",
    "\n",
    "R = A + B + C\n",
    "\n",
    "print(\"Addition =\")\n",
    "print(R)"
   ]
  },
  {
   "cell_type": "markdown",
   "metadata": {},
   "source": [
    "#### 2.3.1 Associative Property"
   ]
  },
  {
   "cell_type": "code",
   "execution_count": 171,
   "metadata": {},
   "outputs": [
    {
     "name": "stdout",
     "output_type": "stream",
     "text": [
      "A + B =\n",
      " [[ 4  9]\n",
      " [10  6]]\n",
      "B + A =\n",
      " [[ 4  9]\n",
      " [10  6]]\n",
      "Hence A+B = B+A\n"
     ]
    }
   ],
   "source": [
    "# A+B = B+A\n",
    "\n",
    "A = np.array(([3,1],[6,4]))\n",
    "B = np.array(([1,8],[4,2]))\n",
    "\n",
    "R1 = A + B\n",
    "R2 = B + A\n",
    "\n",
    "print(\"A + B =\\n\", R1)\n",
    "print(\"B + A =\\n\", R2)\n",
    "print(\"Hence A+B = B+A\")"
   ]
  },
  {
   "cell_type": "markdown",
   "metadata": {},
   "source": [
    "### 2.4 Subtraction of Matrices"
   ]
  },
  {
   "cell_type": "code",
   "execution_count": 212,
   "metadata": {},
   "outputs": [
    {
     "name": "stdout",
     "output_type": "stream",
     "text": [
      "Difference =\n",
      "[-2, -3, -5]\n",
      "[-1, -1, 4]\n",
      "[-2, 4, 8]\n"
     ]
    }
   ],
   "source": [
    "# Subtraction of matrices (Dimensions of the matrices should be same)\n",
    "\n",
    "a = [[1, 2, 3],\n",
    "     [4, 5, 6],\n",
    "     [7, 8, 9]]\n",
    "\n",
    "b = [[3, 5, 8],\n",
    "     [5, 6, 2],\n",
    "     [9, 4, 1]]\n",
    "\n",
    "result = [[0,0,0],\n",
    "         [0,0,0],\n",
    "         [0,0,0]]\n",
    "\n",
    "for i in range(len(a)):\n",
    "    for j in range(len(b)):\n",
    "        result[i][j] = a[i][j] - b[i][j]           # elementwise difference\n",
    "\n",
    "print(\"Difference =\")\n",
    "\n",
    "for r in result:\n",
    "    print(r)"
   ]
  },
  {
   "cell_type": "code",
   "execution_count": 213,
   "metadata": {},
   "outputs": [
    {
     "name": "stdout",
     "output_type": "stream",
     "text": [
      "Difference =\n",
      "[[ 2 -7]\n",
      " [ 2  2]]\n"
     ]
    }
   ],
   "source": [
    "# Subtraction of matrices (Dimensions of the matrices should be same)\n",
    "\n",
    "A = np.array(([3,1],[6,4]))\n",
    "B = np.array(([1,8],[4,2]))\n",
    "\n",
    "R = A - B\n",
    "\n",
    "print(\"Difference =\")\n",
    "print(R)"
   ]
  },
  {
   "cell_type": "markdown",
   "metadata": {},
   "source": [
    "### 2.5 Multiplication of Matrices"
   ]
  },
  {
   "cell_type": "code",
   "execution_count": 214,
   "metadata": {},
   "outputs": [
    {
     "name": "stdout",
     "output_type": "stream",
     "text": [
      "Product =\n",
      "[40, 29, 15]\n",
      "[91, 74, 48]\n",
      "[142, 119, 81]\n"
     ]
    }
   ],
   "source": [
    "# Multiplication of matrices (number of columns of one matrix should be equal to number of rows of other matrix)\n",
    "\n",
    "a = [[1, 2, 3],\n",
    "     [4, 5, 6],\n",
    "     [7, 8, 9]]\n",
    "\n",
    "b = [[3, 5, 8],\n",
    "     [5, 6, 2],\n",
    "     [9, 4, 1]]\n",
    "\n",
    "result = [[0,0,0],\n",
    "         [0,0,0],\n",
    "         [0,0,0]]\n",
    "\n",
    "for i in range(len(a)):\n",
    " \n",
    "    # iterating by column by B\n",
    "    for j in range(len(b[0])):\n",
    " \n",
    "        # iterating by rows of B\n",
    "        for k in range(len(b)):\n",
    "            result[i][j] += a[i][k] * b[k][j]\n",
    "\n",
    "print(\"Product =\")\n",
    "\n",
    "for r in result:\n",
    "    print(r)"
   ]
  },
  {
   "cell_type": "code",
   "execution_count": 215,
   "metadata": {},
   "outputs": [
    {
     "name": "stdout",
     "output_type": "stream",
     "text": [
      "Product =\n",
      " [[ 30  24  18]\n",
      " [ 84  69  54]\n",
      " [138 114  90]]\n"
     ]
    }
   ],
   "source": [
    "# Matrix multiplication\n",
    "\n",
    "array1 = np.array([[1,2,3],[4,5,6],[7,8,9]])  \n",
    "array2 = np.array([[9,8,7],[6,5,4],[3,2,1]])  \n",
    "\n",
    "result = np.matmul(array1,array2)  \n",
    "\n",
    "print(\"Product =\\n\", result)"
   ]
  },
  {
   "cell_type": "markdown",
   "metadata": {},
   "source": [
    "#### 2.5.1 AxB is not equal to BxA"
   ]
  },
  {
   "cell_type": "code",
   "execution_count": 150,
   "metadata": {},
   "outputs": [
    {
     "name": "stdout",
     "output_type": "stream",
     "text": [
      "A x B =\n",
      " [[ 30  24  18]\n",
      " [ 84  69  54]\n",
      " [138 114  90]]\n",
      "B x A =\n",
      " [[ 90 114 138]\n",
      " [ 54  69  84]\n",
      " [ 18  24  30]]\n",
      "It is evident that AxB is not equal to BxA\n"
     ]
    }
   ],
   "source": [
    "# Multiplication of matrices\n",
    "# AxB\n",
    "\n",
    "array1 = np.array([[1,2,3],[4,5,6],[7,8,9]])  \n",
    "array2 = np.array([[9,8,7],[6,5,4],[3,2,1]])  \n",
    "\n",
    "result12 = np.matmul(array1,array2)\n",
    "print(\"A x B =\\n\", result12)\n",
    "    \n",
    "# BxA\n",
    "\n",
    "array1 = np.array([[1,2,3],[4,5,6],[7,8,9]])  \n",
    "array2 = np.array([[9,8,7],[6,5,4],[3,2,1]])  \n",
    "\n",
    "result21 = np.matmul(array2,array1)\n",
    "print(\"B x A =\\n\", result21)\n",
    "    \n",
    "print(\"It is evident that AxB is not equal to BxA\")"
   ]
  },
  {
   "cell_type": "markdown",
   "metadata": {},
   "source": [
    "### 2.6 Elementwise Multiplication of Matrices"
   ]
  },
  {
   "cell_type": "code",
   "execution_count": 216,
   "metadata": {},
   "outputs": [
    {
     "name": "stdout",
     "output_type": "stream",
     "text": [
      "Elementwise Product =\n",
      " [[ 9 16 21]\n",
      " [24 25 24]\n",
      " [21 16  9]]\n"
     ]
    }
   ],
   "source": [
    "# Elementwise Multiplication\n",
    "\n",
    "array1 = np.array([[1,2,3],[4,5,6],[7,8,9]])  \n",
    "array2 = np.array([[9,8,7],[6,5,4],[3,2,1]])  \n",
    "\n",
    "result = np.multiply(array1,array2)  \n",
    "\n",
    "print(\"Elementwise Product =\\n\", result)  "
   ]
  },
  {
   "cell_type": "markdown",
   "metadata": {},
   "source": [
    "### 2.7 Transpose of Matrix"
   ]
  },
  {
   "cell_type": "code",
   "execution_count": 235,
   "metadata": {},
   "outputs": [
    {
     "name": "stdout",
     "output_type": "stream",
     "text": [
      "Transpose of matrix =\n",
      "[1, 3, 5]\n",
      "[2, 4, 6]\n"
     ]
    }
   ],
   "source": [
    "# Transpose of matrix (interchanges rows and columns)\n",
    "\n",
    "X = [[1, 2],\n",
    "     [3, 4],\n",
    "     [5, 6]]\n",
    "\n",
    "result = [[0,0,0],\n",
    "         [0,0,0]]\n",
    "\n",
    "for i in range(len(X)):\n",
    "    for j in range(len(X[0])):\n",
    "        result[j][i] = X[i][j]\n",
    "\n",
    "print(\"Transpose of matrix =\")\n",
    "\n",
    "for r in result:\n",
    "    print(r)"
   ]
  },
  {
   "cell_type": "code",
   "execution_count": 218,
   "metadata": {},
   "outputs": [
    {
     "name": "stdout",
     "output_type": "stream",
     "text": [
      "Transpose of matrix =\n",
      "[[1 3 5]\n",
      " [2 4 6]]\n"
     ]
    }
   ],
   "source": [
    "# Transpose of Matrix\n",
    "\n",
    "X = [[1, 2],\n",
    "     [3, 4],\n",
    "     [5, 6]]\n",
    "\n",
    "print(\"Transpose of matrix =\")\n",
    "\n",
    "print(np.transpose(X))"
   ]
  },
  {
   "cell_type": "markdown",
   "metadata": {},
   "source": [
    "### 2.8 Inverse of Matrix"
   ]
  },
  {
   "cell_type": "code",
   "execution_count": 222,
   "metadata": {
    "scrolled": true
   },
   "outputs": [
    {
     "name": "stdout",
     "output_type": "stream",
     "text": [
      "Inverse of matrix =\n",
      " [[ 0.66666667  0.33333333]\n",
      " [-0.33333333  0.33333333]]\n"
     ]
    }
   ],
   "source": [
    "# Inverse of matrix\n",
    "\n",
    "a = [[1,-1],[1,2]]\n",
    "x = np.array(a)\n",
    "inverse = np.linalg.inv(x)                  # if determinant of matrix is non-zero, matrix is invertible\n",
    "\n",
    "print(\"Inverse of matrix =\\n\", inverse)"
   ]
  },
  {
   "cell_type": "markdown",
   "metadata": {},
   "source": [
    "#### 2.8.1 Inverse(Inverse(Matrix)) = Matrix"
   ]
  },
  {
   "cell_type": "code",
   "execution_count": 100,
   "metadata": {},
   "outputs": [
    {
     "name": "stdout",
     "output_type": "stream",
     "text": [
      "Matrix =\n",
      " [[ 1 -1]\n",
      " [ 1  2]]\n",
      "Inverse of inverse of matrix =\n",
      " [[ 1. -1.]\n",
      " [ 1.  2.]]\n"
     ]
    }
   ],
   "source": [
    "# inv(inv(A)) = A\n",
    "\n",
    "x = np.array(a)\n",
    "inv_inv_x = np.linalg.inv(np.linalg.inv(x))\n",
    "\n",
    "print(\"Matrix =\\n\", x)\n",
    "print(\"Inverse of inverse of matrix =\\n\", inv_inv_x)"
   ]
  },
  {
   "cell_type": "markdown",
   "metadata": {},
   "source": [
    "#### 2.8.2 Inverse of Singular Matrix is not Possible"
   ]
  },
  {
   "cell_type": "code",
   "execution_count": 164,
   "metadata": {},
   "outputs": [
    {
     "name": "stdout",
     "output_type": "stream",
     "text": [
      "Determinant = 0.0\n",
      "Inverse of Singular matrix is not Possible\n"
     ]
    }
   ],
   "source": [
    "x = np.array([[1, 4, 5], [2, 8, 10], [8, 4, 1]])\n",
    "determinant = np.linalg.det(x)\n",
    "\n",
    "print('Determinant =', determinant)\n",
    "\n",
    "try:\n",
    "    inverse = np.linalg.inv(x)\n",
    "    print(inverse)\n",
    "except:\n",
    "    print(\"Inverse of Singular matrix is not Possible\")"
   ]
  },
  {
   "cell_type": "markdown",
   "metadata": {},
   "source": [
    "### 2.9 Rank of Matrix"
   ]
  },
  {
   "cell_type": "code",
   "execution_count": 223,
   "metadata": {},
   "outputs": [
    {
     "name": "stdout",
     "output_type": "stream",
     "text": [
      "Rank of matrix = 3\n"
     ]
    }
   ],
   "source": [
    "# Rank of matrix\n",
    "\n",
    "x = np.array([[1, 0, 5], [4, 7, 9], [8, 4, 6]])\n",
    "rank = np.linalg.matrix_rank(x)\n",
    "\n",
    "print(\"Rank of matrix =\", rank)"
   ]
  },
  {
   "cell_type": "markdown",
   "metadata": {},
   "source": [
    "### 2.10 Determinant of Matrix"
   ]
  },
  {
   "cell_type": "code",
   "execution_count": 86,
   "metadata": {},
   "outputs": [
    {
     "name": "stdout",
     "output_type": "stream",
     "text": [
      "Determinant = 198.99999999999997\n"
     ]
    }
   ],
   "source": [
    "# Determinant of matrix\n",
    "\n",
    "x = np.array([[1, 4, 5], [4, 3, 9], [8, 4, 1]])\n",
    "determinant = np.linalg.det(x)\n",
    "\n",
    "print('Determinant =', determinant)"
   ]
  },
  {
   "cell_type": "markdown",
   "metadata": {},
   "source": [
    "#### 2.10.1 Det(A) = Det(Transpose(A))"
   ]
  },
  {
   "cell_type": "code",
   "execution_count": 93,
   "metadata": {},
   "outputs": [
    {
     "name": "stdout",
     "output_type": "stream",
     "text": [
      "Determinant = 198.99999999999997\n",
      "Determinant of transpose = 198.99999999999997\n",
      "Thus, determinant of matrix and its transpose is same\n"
     ]
    }
   ],
   "source": [
    "x = np.array([[1, 4, 5], [4, 3, 9], [8, 4, 1]])\n",
    "\n",
    "det_x = np.linalg.det(x)\n",
    "det_trans_x = np.linalg.det(np.transpose(x))\n",
    "\n",
    "print('Determinant =', det_x)\n",
    "print('Determinant of transpose =', det_trans_x)\n",
    "print(\"Thus, determinant of matrix and its transpose is same\")"
   ]
  },
  {
   "cell_type": "markdown",
   "metadata": {},
   "source": [
    "### 2.11 Singular Matrix"
   ]
  },
  {
   "cell_type": "code",
   "execution_count": 167,
   "metadata": {},
   "outputs": [
    {
     "name": "stdout",
     "output_type": "stream",
     "text": [
      "determinant = 0.0\n",
      "It is a singular matrix\n"
     ]
    }
   ],
   "source": [
    "# Singular matrix (ie, determinant of matrix is zero)\n",
    "\n",
    "x = np.array([[1, 2, 3], [2, 4, 6], [1, 4, 6]])\n",
    "determinant = np.linalg.det(x)\n",
    "\n",
    "print('determinant =', determinant)\n",
    "\n",
    "if determinant == 0:                            # determinant of singular matrix is zero\n",
    "    print(\"It is a singular matrix\")\n",
    "else:\n",
    "    print(\"It is not a singular matrix\")"
   ]
  },
  {
   "cell_type": "markdown",
   "metadata": {},
   "source": [
    "### 2.12 Cofactor of Matrix"
   ]
  },
  {
   "cell_type": "code",
   "execution_count": 225,
   "metadata": {},
   "outputs": [
    {
     "name": "stdout",
     "output_type": "stream",
     "text": [
      "Cofactor of matrix =\n"
     ]
    },
    {
     "data": {
      "text/latex": [
       "$\\displaystyle \\left[\\begin{matrix}3 & 0 & 0\\\\-2 & 1 & -7\\\\0 & 0 & 3\\end{matrix}\\right]$"
      ],
      "text/plain": [
       "Matrix([\n",
       "[ 3, 0,  0],\n",
       "[-2, 1, -7],\n",
       "[ 0, 0,  3]])"
      ]
     },
     "execution_count": 225,
     "metadata": {},
     "output_type": "execute_result"
    }
   ],
   "source": [
    "# Cofactor of matrix\n",
    "\n",
    "from sympy import *\n",
    "\n",
    "A = Matrix([[1,2,0],[0,3,0],[0,7,1]])\n",
    "print(\"Cofactor of matrix =\")\n",
    "A.adjugate().T                               # Transpose of adjoint of matrix"
   ]
  },
  {
   "cell_type": "markdown",
   "metadata": {},
   "source": [
    "### 2.13 Adjoint of Matrix"
   ]
  },
  {
   "cell_type": "code",
   "execution_count": 226,
   "metadata": {},
   "outputs": [
    {
     "name": "stdout",
     "output_type": "stream",
     "text": [
      "Adjoint of matrix =\n"
     ]
    },
    {
     "data": {
      "text/latex": [
       "$\\displaystyle \\left[\\begin{matrix}3 & -2 & 0\\\\0 & 1 & 0\\\\0 & -7 & 3\\end{matrix}\\right]$"
      ],
      "text/plain": [
       "Matrix([\n",
       "[3, -2, 0],\n",
       "[0,  1, 0],\n",
       "[0, -7, 3]])"
      ]
     },
     "execution_count": 226,
     "metadata": {},
     "output_type": "execute_result"
    }
   ],
   "source": [
    "# Adjoint of matrix\n",
    "\n",
    "from sympy import *\n",
    "\n",
    "A = Matrix([[1,2,0],[0,3,0],[0,7,1]])\n",
    "print(\"Adjoint of matrix =\")\n",
    "A.adjugate()"
   ]
  },
  {
   "cell_type": "markdown",
   "metadata": {},
   "source": [
    "### 2.14 RREF of Matrix"
   ]
  },
  {
   "cell_type": "code",
   "execution_count": 228,
   "metadata": {},
   "outputs": [
    {
     "name": "stdout",
     "output_type": "stream",
     "text": [
      "RREF of matrix =\n",
      "(Matrix([\n",
      "[1, 0, -1],\n",
      "[0, 1,  2],\n",
      "[0, 0,  0]]), (0, 1))\n"
     ]
    }
   ],
   "source": [
    "# RREF of matrix\n",
    "\n",
    "from sympy import *\n",
    "\n",
    "A = Matrix([[1, 2, 3], [4, 5, 6], [7, 8, 9]])\n",
    "print(\"RREF of matrix =\")\n",
    "print(A.rref())                      # matrix part give RREF, second part gives index of pivot values"
   ]
  },
  {
   "cell_type": "markdown",
   "metadata": {},
   "source": [
    "### 2.15 Identity Matrix"
   ]
  },
  {
   "cell_type": "code",
   "execution_count": 229,
   "metadata": {},
   "outputs": [
    {
     "name": "stdout",
     "output_type": "stream",
     "text": [
      "Identity matrix =\n",
      " [[1. 0. 0.]\n",
      " [0. 1. 0.]\n",
      " [0. 0. 1.]]\n"
     ]
    }
   ],
   "source": [
    "# Identity matrix\n",
    "\n",
    "I = np.identity(3)\n",
    "print(\"Identity matrix =\\n\", I)"
   ]
  },
  {
   "cell_type": "markdown",
   "metadata": {},
   "source": [
    "# 3. Solutions of Linear Equations"
   ]
  },
  {
   "cell_type": "code",
   "execution_count": 231,
   "metadata": {},
   "outputs": [
    {
     "name": "stdout",
     "output_type": "stream",
     "text": [
      "Solution of equations = [3.78378378 2.16216216 4.        ]\n"
     ]
    }
   ],
   "source": [
    "# Solving linear equations\n",
    "# Let's say we have three linear equations\n",
    "# 1. 4x - 7y + 3z = 12\n",
    "# 2. 6x + 8y - 2z = 32\n",
    "# 3. 7x - 3y - 4z = 4\n",
    "\n",
    "# We can represent it in the form of matrices\n",
    "\n",
    "A = np.array([[4, -7, 3],\n",
    "              [6, 8, -2],\n",
    "              [7, -3, -4]])\n",
    "\n",
    "B = np.array([12, 32, 4])\n",
    "\n",
    "inverse_A = np.linalg.inv(A)\n",
    "\n",
    "X = np.dot(inverse_A, B)\n",
    "\n",
    "print(\"Solution of equations =\", X)"
   ]
  },
  {
   "cell_type": "markdown",
   "metadata": {},
   "source": [
    "### 3.1 Consistent and Unique Solutions"
   ]
  },
  {
   "cell_type": "code",
   "execution_count": 232,
   "metadata": {},
   "outputs": [
    {
     "name": "stdout",
     "output_type": "stream",
     "text": [
      "Solution of equations = [3.78378378 2.16216216 4.        ]\n"
     ]
    }
   ],
   "source": [
    "# Solving linear equations\n",
    "# Let's say we have three linear equations\n",
    "# 1. 4x - 7y + 3z = 12\n",
    "# 2. 6x + 8y - 2z = 32\n",
    "# 3. 7x - 3y - 4z = 4\n",
    "\n",
    "# We can represent it in the form of matrices\n",
    "\n",
    "A = np.array([[4, -7, 3],\n",
    "              [6, 8, -2],\n",
    "              [7, -3, -4]])\n",
    "\n",
    "B = np.array([12, 32, 4])\n",
    "\n",
    "X = np.linalg.solve(A, B)\n",
    "\n",
    "print(\"Solution of equations =\", X)"
   ]
  },
  {
   "cell_type": "markdown",
   "metadata": {},
   "source": [
    "### 3.2 Inconsistent and No Solution"
   ]
  },
  {
   "cell_type": "code",
   "execution_count": 165,
   "metadata": {},
   "outputs": [
    {
     "name": "stdout",
     "output_type": "stream",
     "text": [
      "Inconsistent system of equations\n"
     ]
    }
   ],
   "source": [
    "# These set of linear equations are inconsistent\n",
    "\n",
    "A = np.array([[4, 2],\n",
    "              [8, 4]])\n",
    "\n",
    "B = np.array([12, 28])\n",
    "\n",
    "try:\n",
    "    X = np.linalg.solve(A, B)\n",
    "    print(X)\n",
    "except:\n",
    "    print(\"Inconsistent system of equations\")\n"
   ]
  },
  {
   "cell_type": "markdown",
   "metadata": {},
   "source": [
    "### 3.3 Consistent and Infinite Solutions"
   ]
  },
  {
   "cell_type": "code",
   "execution_count": 166,
   "metadata": {},
   "outputs": [
    {
     "name": "stdout",
     "output_type": "stream",
     "text": [
      "Infinite solutions\n"
     ]
    }
   ],
   "source": [
    "# These set of linear equations are consistent with infinite solutions\n",
    "\n",
    "A = np.array([[4, 2],\n",
    "              [8, 4]])\n",
    "\n",
    "B = np.array([12, 24])\n",
    "\n",
    "try:\n",
    "    X = np.linalg.solve(A, B)\n",
    "    print(X)\n",
    "except:\n",
    "    print(\"Infinite solutions\")"
   ]
  }
 ],
 "metadata": {
  "kernelspec": {
   "display_name": "Python 3",
   "language": "python",
   "name": "python3"
  },
  "language_info": {
   "codemirror_mode": {
    "name": "ipython",
    "version": 3
   },
   "file_extension": ".py",
   "mimetype": "text/x-python",
   "name": "python",
   "nbconvert_exporter": "python",
   "pygments_lexer": "ipython3",
   "version": "3.8.5"
  }
 },
 "nbformat": 4,
 "nbformat_minor": 4
}
